{
 "cells": [
  {
   "metadata": {},
   "cell_type": "markdown",
   "source": "",
   "id": "87cfdc6755b9b575"
  },
  {
   "metadata": {},
   "cell_type": "code",
   "source": [
    "from numpy.distutils.command.install_headers import install_headers\n",
    "# !pip install torch torchvision torchaudio --index-url https://download.pytorch.org/whl/cu128\n",
    "# !pip install transformers datasets\n",
    "!pip install scikit-learn matplotlib seaborn"
   ],
   "id": "efa6e2891db35c1",
   "outputs": [],
   "execution_count": null
  },
  {
   "metadata": {},
   "cell_type": "markdown",
   "source": "# 📚 2. Imports",
   "id": "cb95c384bdf0a2d2"
  },
  {
   "metadata": {},
   "cell_type": "code",
   "source": [
    "import pandas as pd\n",
    "import numpy as np\n",
    "import torch\n",
    "\n",
    "from datasets import Dataset\n",
    "from transformers import (\n",
    "    BertTokenizer,\n",
    "    BertForSequenceClassification,\n",
    "    Trainer,\n",
    "    TrainingArguments,\n",
    "    DataCollatorWithPadding\n",
    ")\n",
    "from sklearn.metrics import classification_report, accuracy_score, f1_score\n",
    "import matplotlib.pyplot as plt\n",
    "import seaborn as sns\n"
   ],
   "id": "cd3d72ad291e6117",
   "outputs": [],
   "execution_count": null
  },
  {
   "metadata": {},
   "cell_type": "markdown",
   "source": "# 3. Verificar GPU",
   "id": "4f531309f0889d54"
  },
  {
   "metadata": {},
   "cell_type": "code",
   "source": [
    "print(\"Versão do PyTorch:\", torch.__version__)\n",
    "print(\"CUDA disponível:\", torch.cuda.is_available())\n",
    "print(\"Dispositivo:\", torch.cuda.get_device_name(0) if torch.cuda.is_available() else \"CPU\")\n"
   ],
   "id": "b8ae062ca7a0b529",
   "outputs": [],
   "execution_count": null
  },
  {
   "metadata": {},
   "cell_type": "markdown",
   "source": "# 📁 4. Dataset",
   "id": "5cb55dd978fba664"
  },
  {
   "metadata": {},
   "cell_type": "code",
   "source": [
    "# Exemplo de CSV com colunas: texto,sentimento\n",
    "df = pd.read_csv(\"../DATA/sentiment_train.csv\")\n",
    "\n",
    "label_map = {'POSITIVO': 2, 'NEUTRO': 1, 'NEGATIVO': 0}\n",
    "df = df[df['tweet_text'].isin(label_map.keys())]\n",
    "df['label'] = df['sentiment'].map(label_map)\n",
    "df = df[['tweet_text', 'label']].dropna().reset_index(drop=True)\n",
    "\n",
    "# Divisão dos dados\n",
    "train_df = df.sample(frac=0.8, random_state=42)\n",
    "temp_df = df.drop(train_df.index)\n",
    "val_df = temp_df.sample(frac=0.5, random_state=42)\n",
    "test_df = temp_df.drop(val_df.index)\n"
   ],
   "id": "4f1f8f57252fe50b",
   "outputs": [],
   "execution_count": null
  },
  {
   "metadata": {},
   "cell_type": "markdown",
   "source": "# 🔤 5. Tokenizer",
   "id": "f7c11a5fabeddd2e"
  },
  {
   "metadata": {},
   "cell_type": "code",
   "source": [
    "tokenizer = BertTokenizer.from_pretrained(\"neuralmind/bert-base-portuguese-cased\")\n",
    "\n",
    "def tokenize(batch):\n",
    "    return tokenizer(batch[\"texto\"], truncation=True)\n",
    "\n",
    "dataset_dict = {\n",
    "    \"train\": Dataset.from_pandas(train_df),\n",
    "    \"validation\": Dataset.from_pandas(val_df),\n",
    "    \"test\": Dataset.from_pandas(test_df),\n",
    "}\n",
    "\n",
    "tokenized = {\n",
    "    k: v.map(tokenize, batched=True)\n",
    "    for k, v in dataset_dict.items()\n",
    "}\n",
    "\n",
    "data_collator = DataCollatorWithPadding(tokenizer=tokenizer)\n"
   ],
   "id": "12b4d52372304a7b",
   "outputs": [],
   "execution_count": null
  },
  {
   "metadata": {},
   "cell_type": "markdown",
   "source": "# 🧠 6. Modelo Base",
   "id": "829b6ece536c0a59"
  },
  {
   "metadata": {},
   "cell_type": "code",
   "source": [
    "model = BertForSequenceClassification.from_pretrained(\n",
    "    \"neuralmind/bert-base-portuguese-cased\",\n",
    "    num_labels=3\n",
    ").to(\"cuda\" if torch.cuda.is_available() else \"cpu\")\n"
   ],
   "id": "b9e668acd63f87a5",
   "outputs": [],
   "execution_count": null
  },
  {
   "metadata": {},
   "cell_type": "markdown",
   "source": "# ⚙️ 7. Argumentos de Treinamento",
   "id": "10f36baf35c48e0a"
  },
  {
   "metadata": {},
   "cell_type": "code",
   "source": [
    "from transformers import TrainingArguments\n",
    "\n",
    "my_args = TrainingArguments(\n",
    "    output_dir=\"./results\",\n",
    "    # evaluation_strategy=\"epoch\",\n",
    "    save_strategy=\"epoch\",\n",
    "    per_device_train_batch_size=16,\n",
    "    per_device_eval_batch_size=16,\n",
    "    num_train_epochs=3\n",
    ")\n"
   ],
   "id": "3c67a01ce936036d",
   "outputs": [],
   "execution_count": null
  },
  {
   "metadata": {},
   "cell_type": "markdown",
   "source": "# 🧮 8. Métricas",
   "id": "a258a0d601131374"
  },
  {
   "metadata": {},
   "cell_type": "code",
   "source": [
    "def compute_metrics(pred):\n",
    "    labels = pred.label_ids\n",
    "    preds = np.argmax(pred.predictions, axis=1)\n",
    "    return {\n",
    "        \"accuracy\": accuracy_score(labels, preds),\n",
    "        \"f1\": f1_score(labels, preds, average=\"macro\")\n",
    "    }\n"
   ],
   "id": "fc7f9481f3db3257",
   "outputs": [],
   "execution_count": null
  },
  {
   "metadata": {},
   "cell_type": "markdown",
   "source": "# 🚀 9. Treinamento",
   "id": "3ea5918025b97f71"
  },
  {
   "metadata": {},
   "cell_type": "code",
   "source": [
    "trainer = Trainer(\n",
    "    model=model,\n",
    "    args=my_args,\n",
    "    train_dataset=tokenized[\"train\"],\n",
    "    eval_dataset=tokenized[\"validation\"],\n",
    "    tokenizer=tokenizer,\n",
    "    data_collator=data_collator,\n",
    "    compute_metrics=compute_metrics\n",
    ")\n",
    "\n",
    "trainer.train()\n"
   ],
   "id": "ad6f9e84843719f1",
   "outputs": [],
   "execution_count": null
  },
  {
   "metadata": {},
   "cell_type": "markdown",
   "source": "# ✅ 10. Avaliação Final",
   "id": "50785d359dec95c0"
  },
  {
   "metadata": {},
   "cell_type": "code",
   "source": [
    "predictions = trainer.predict(tokenized[\"test\"])\n",
    "preds = np.argmax(predictions.predictions, axis=1)\n",
    "\n",
    "print(classification_report(tokenized[\"test\"][\"label\"], preds, target_names=['Negativo', 'Neutro', 'Positivo']))\n"
   ],
   "id": "a6c80b13b4c37023",
   "outputs": [],
   "execution_count": null
  },
  {
   "metadata": {},
   "cell_type": "markdown",
   "source": "# 📊 11. Matriz de Confusão",
   "id": "26488206f00d8bd8"
  },
  {
   "metadata": {},
   "cell_type": "code",
   "source": [
    "cm = torch.tensor(\n",
    "    pd.crosstab(tokenized[\"test\"][\"label\"], preds, rownames=['Real'], colnames=['Predito'])\n",
    ")\n",
    "sns.heatmap(cm, annot=True, fmt=\"d\", cmap=\"YlGnBu\", xticklabels=['Neg', 'Neu', 'Pos'], yticklabels=['Neg', 'Neu', 'Pos'])\n",
    "plt.title(\"Matriz de Confusão\")\n",
    "plt.show()\n"
   ],
   "id": "6fc78376841c5c4f",
   "outputs": [],
   "execution_count": null
  },
  {
   "metadata": {},
   "cell_type": "markdown",
   "source": [
    "# 🧾 12. Conclusão\n",
    "* Modelo BERTimbau ajustado com sucesso.\n",
    "\n",
    "* Treinamento usando CUDA 12.8 e RTX 3060.\n",
    "\n",
    "* Próximos passos: análise de erros, ajuste de hiperparâmetros e comparação com baseline.\n",
    "\n"
   ],
   "id": "ae23e93e9cc19320"
  }
 ],
 "metadata": {
  "kernelspec": {
   "display_name": "Python 3",
   "language": "python",
   "name": "python3"
  },
  "language_info": {
   "codemirror_mode": {
    "name": "ipython",
    "version": 2
   },
   "file_extension": ".py",
   "mimetype": "text/x-python",
   "name": "python",
   "nbconvert_exporter": "python",
   "pygments_lexer": "ipython2",
   "version": "2.7.6"
  }
 },
 "nbformat": 4,
 "nbformat_minor": 5
}
