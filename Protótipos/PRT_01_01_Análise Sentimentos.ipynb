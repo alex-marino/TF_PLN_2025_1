{
 "cells": [
  {
   "metadata": {},
   "cell_type": "markdown",
   "source": [
    "# Análise de Sentimentos com BERTimbau e Transformers\n",
    "\n",
    "> Protótipo básico de fine-tuning de modelo pré-treinado para tarefa de classificação de sentimentos em português.\n",
    "\n",
    "---\n"
   ],
   "id": "35a0857d771af9c1"
  },
  {
   "cell_type": "code",
   "id": "initial_id",
   "metadata": {
    "collapsed": true
   },
   "source": [
    "## 📚 Etapa 1 — Instalação das bibliotecas\n",
    "#\n",
    "!pip install transformers datasets scikit-learn matplotlib seaborn\n"
   ],
   "outputs": [],
   "execution_count": null
  },
  {
   "metadata": {},
   "cell_type": "markdown",
   "source": "# Etapa 2 — Importação de bibliotecas",
   "id": "a3113c7bcecf1ed1"
  },
  {
   "metadata": {},
   "cell_type": "code",
   "source": [
    "# import pandas as pd\n",
    "# import numpy as np\n",
    "from datasets import load_dataset, Dataset\n",
    "from transformers import BertTokenizer, BertForSequenceClassification, Trainer, TrainingArguments\n",
    "from transformers import DataCollatorWithPadding\n",
    "# from sklearn.metrics import classification_report, accuracy_score, f1_score\n",
    "# import torch\n",
    "# import matplotlib.pyplot as plt\n",
    "# import seaborn as sns\n"
   ],
   "id": "cd775d531b27ecd3",
   "outputs": [],
   "execution_count": null
  },
  {
   "metadata": {},
   "cell_type": "markdown",
   "source": [
    "# 📁 Etapa 3 — Carregamento e visualização do dataset\n",
    "Neste protótipo, usaremos o dataset SentiCorpus-PT (baixe manualmente ou adapte o trecho abaixo).\n"
   ],
   "id": "b4f4f394cf2853d9"
  },
  {
   "metadata": {},
   "cell_type": "code",
   "source": [
    "# Supondo que você tenha os dados em um CSV com colunas 'texto' e 'sentimento'\n",
    "df = pd.read_csv(\"senticorpus_pt.csv\")  # adaptar caminho\n",
    "df.head()\n"
   ],
   "id": "d9596b239b9fcf23",
   "outputs": [],
   "execution_count": null
  },
  {
   "metadata": {},
   "cell_type": "markdown",
   "source": "# 🧹 Etapa 4 — Pré-processamento básico",
   "id": "6b5152f9de7f966e"
  },
  {
   "metadata": {},
   "cell_type": "code",
   "source": [
    "label_map = {'POSITIVO': 2, 'NEUTRO': 1, 'NEGATIVO': 0}\n",
    "df = df[df['sentimento'].isin(label_map.keys())]\n",
    "df['label'] = df['sentimento'].map(label_map)\n",
    "df = df[['texto', 'label']]\n",
    "df = df.sample(frac=1, random_state=42).reset_index(drop=True)\n"
   ],
   "id": "da66e6e399c18ca9",
   "outputs": [],
   "execution_count": null
  },
  {
   "metadata": {},
   "cell_type": "markdown",
   "source": "# Etapa 5 — Divisão treino/validação/teste",
   "id": "60e87bef2d9a705b"
  },
  {
   "metadata": {},
   "cell_type": "code",
   "source": [
    "train_df = df[:int(0.8 * len(df))]\n",
    "val_df = df[int(0.8 * len(df)):int(0.9 * len(df))]\n",
    "test_df = df[int(0.9 * len(df)):]\n",
    "\n",
    "dataset_dict = Dataset.from_pandas(train_df).train_test_split(test_size=0.2)\n",
    "dataset_dict['validation'] = Dataset.from_pandas(val_df)\n",
    "dataset_dict['test'] = Dataset.from_pandas(test_df)\n"
   ],
   "id": "9709ede4bcb70837",
   "outputs": [],
   "execution_count": null
  },
  {
   "metadata": {},
   "cell_type": "markdown",
   "source": "# 🔤 Etapa 6 — Tokenização com BERTimbau\n",
   "id": "110ae358bfc9aef5"
  },
  {
   "metadata": {},
   "cell_type": "code",
   "source": [
    "tokenizer = BertTokenizer.from_pretrained('neuralmind/bert-base-portuguese-cased')\n",
    "\n",
    "def tokenize(batch):\n",
    "    return tokenizer(batch['texto'], truncation=True, padding=True)\n",
    "\n",
    "tokenized_datasets = dataset_dict.map(tokenize, batched=True)\n",
    "data_collator = DataCollatorWithPadding(tokenizer=tokenizer)\n"
   ],
   "id": "82a26049c661d90f",
   "outputs": [],
   "execution_count": null
  },
  {
   "metadata": {},
   "cell_type": "markdown",
   "source": "# 🏗️ Etapa 7 — Modelo pré-treinado",
   "id": "f130b88bcecfa13c"
  },
  {
   "metadata": {},
   "cell_type": "code",
   "source": [
    "model = BertForSequenceClassification.from_pretrained(\n",
    "    \"neuralmind/bert-base-portuguese-cased\",\n",
    "    num_labels=3\n",
    ")\n"
   ],
   "id": "3b455c067c7beb17",
   "outputs": [],
   "execution_count": null
  },
  {
   "metadata": {},
   "cell_type": "markdown",
   "source": "# 🏋️ Etapa 8 — Configuração de treinamento",
   "id": "681877609c579e8"
  },
  {
   "metadata": {},
   "cell_type": "code",
   "source": [
    "training_args = TrainingArguments(\n",
    "    output_dir=\"./results\",\n",
    "    evaluation_strategy=\"epoch\",\n",
    "    save_strategy=\"epoch\",\n",
    "    learning_rate=2e-5,\n",
    "    per_device_train_batch_size=16,\n",
    "    per_device_eval_batch_size=16,\n",
    "    num_train_epochs=3,\n",
    "    weight_decay=0.01,\n",
    "    logging_dir=\"./logs\",\n",
    "    load_best_model_at_end=True,\n",
    "    metric_for_best_model=\"f1\",\n",
    ")\n"
   ],
   "id": "33c53ed285bce9b6",
   "outputs": [],
   "execution_count": null
  },
  {
   "metadata": {},
   "cell_type": "markdown",
   "source": "# 🧮 Etapa 9 — Métricas de avaliação\n",
   "id": "7937bfb781510bfd"
  },
  {
   "metadata": {},
   "cell_type": "code",
   "source": [
    "def compute_metrics(pred):\n",
    "    labels = pred.label_ids\n",
    "    preds = np.argmax(pred.predictions, axis=1)\n",
    "    return {\n",
    "        \"accuracy\": accuracy_score(labels, preds),\n",
    "        \"f1\": f1_score(labels, preds, average=\"macro\")\n",
    "    }\n"
   ],
   "id": "aeec4aed2993d22c",
   "outputs": [],
   "execution_count": null
  },
  {
   "metadata": {},
   "cell_type": "markdown",
   "source": "# 🚀 Etapa 10 — Treinamento do modelo",
   "id": "69814d6335d455ad"
  },
  {
   "metadata": {},
   "cell_type": "code",
   "source": [
    "trainer = Trainer(\n",
    "    model=model,\n",
    "    args=training_args,\n",
    "    train_dataset=tokenized_datasets['train'],\n",
    "    eval_dataset=tokenized_datasets['validation'],\n",
    "    tokenizer=tokenizer,\n",
    "    data_collator=data_collator,\n",
    "    compute_metrics=compute_metrics,\n",
    ")\n",
    "\n",
    "trainer.train()\n"
   ],
   "id": "41b9b4d9239ce354",
   "outputs": [],
   "execution_count": null
  },
  {
   "metadata": {},
   "cell_type": "markdown",
   "source": "# ✅ Etapa 11 — Avaliação no conjunto de teste",
   "id": "435082a458231f90"
  },
  {
   "metadata": {},
   "cell_type": "code",
   "source": [
    "predictions = trainer.predict(tokenized_datasets['test'])\n",
    "preds = np.argmax(predictions.predictions, axis=1)\n",
    "print(classification_report(tokenized_datasets['test']['label'], preds, target_names=['Negativo', 'Neutro', 'Positivo']))\n"
   ],
   "id": "9bcacc7d46ae4eee",
   "outputs": [],
   "execution_count": null
  },
  {
   "metadata": {},
   "cell_type": "markdown",
   "source": "# 📊 Etapa 12 — Matriz de Confusão",
   "id": "20a2267a7295eaa3"
  },
  {
   "metadata": {},
   "cell_type": "code",
   "source": [
    "from sklearn.metrics import confusion_matrix\n",
    "\n",
    "cm = confusion_matrix(tokenized_datasets['test']['label'], preds)\n",
    "sns.heatmap(cm, annot=True, fmt=\"d\", cmap=\"Blues\", xticklabels=['Neg', 'Neu', 'Pos'], yticklabels=['Neg', 'Neu', 'Pos'])\n",
    "plt.xlabel(\"Predito\")\n",
    "plt.ylabel(\"Real\")\n",
    "plt.title(\"Matriz de Confusão\")\n",
    "plt.show()\n"
   ],
   "id": "91192ce73ae940e8",
   "outputs": [],
   "execution_count": null
  }
 ],
 "metadata": {
  "kernelspec": {
   "display_name": "Python 3",
   "language": "python",
   "name": "python3"
  },
  "language_info": {
   "codemirror_mode": {
    "name": "ipython",
    "version": 2
   },
   "file_extension": ".py",
   "mimetype": "text/x-python",
   "name": "python",
   "nbconvert_exporter": "python",
   "pygments_lexer": "ipython2",
   "version": "2.7.6"
  }
 },
 "nbformat": 4,
 "nbformat_minor": 5
}
