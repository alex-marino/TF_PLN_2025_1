{
 "cells": [
  {
   "metadata": {},
   "cell_type": "markdown",
   "source": "# ✅ Verificações de Instalação — Torch, Transformers, Tokenizer, Dataset\n",
   "id": "b847a0c310d17466"
  },
  {
   "cell_type": "code",
   "id": "initial_id",
   "metadata": {
    "collapsed": true,
    "ExecuteTime": {
     "end_time": "2025-05-29T18:08:37.967834Z",
     "start_time": "2025-05-29T18:08:36.854383Z"
    }
   },
   "source": [
    "import torch\n",
    "\n",
    "print(\"Versão do PyTorch:\", torch.__version__)\n",
    "print(\"CUDA disponível? \", torch.cuda.is_available())\n",
    "print(\"Dispositivo atual:\", torch.cuda.get_device_name(0) if torch.cuda.is_available() else \"CPU\")\n"
   ],
   "outputs": [
    {
     "name": "stdout",
     "output_type": "stream",
     "text": [
      "Versão do PyTorch: 2.7.0+cu128\n",
      "CUDA disponível?  True\n",
      "Dispositivo atual: NVIDIA GeForce RTX 3060 Laptop GPU\n"
     ]
    }
   ],
   "execution_count": 2
  },
  {
   "metadata": {},
   "cell_type": "markdown",
   "source": "# 2. 🤗 Testar transformers e carregamento de modelo pré-treinado",
   "id": "487b5e6dbb004a5"
  },
  {
   "metadata": {
    "ExecuteTime": {
     "end_time": "2025-05-29T18:08:44.145587Z",
     "start_time": "2025-05-29T18:08:40.386116Z"
    }
   },
   "cell_type": "code",
   "source": [
    "from transformers import BertTokenizer, BertModel\n",
    "\n",
    "model_name = \"neuralmind/bert-base-portuguese-cased\"\n",
    "tokenizer = BertTokenizer.from_pretrained(model_name)\n",
    "model = BertModel.from_pretrained(model_name)\n",
    "\n",
    "print(\"Modelo e tokenizer carregados com sucesso!\")\n"
   ],
   "id": "cb0156a70e0d80e",
   "outputs": [
    {
     "name": "stderr",
     "output_type": "stream",
     "text": [
      "/home/alex/miniconda3/envs/TF_PLN_2025_1/lib/python3.11/site-packages/requests/__init__.py:86: RequestsDependencyWarning: Unable to find acceptable character detection dependency (chardet or charset_normalizer).\n",
      "  warnings.warn(\n",
      "/home/alex/miniconda3/envs/TF_PLN_2025_1/lib/python3.11/site-packages/tqdm/auto.py:21: TqdmWarning: IProgress not found. Please update jupyter and ipywidgets. See https://ipywidgets.readthedocs.io/en/stable/user_install.html\n",
      "  from .autonotebook import tqdm as notebook_tqdm\n"
     ]
    },
    {
     "name": "stdout",
     "output_type": "stream",
     "text": [
      "Modelo e tokenizer carregados com sucesso!\n"
     ]
    }
   ],
   "execution_count": 3
  },
  {
   "metadata": {},
   "cell_type": "markdown",
   "source": "# 3. 🔤 Testar o tokenizer com uma frase de exemplo",
   "id": "8b9931fb7e75f629"
  },
  {
   "metadata": {
    "ExecuteTime": {
     "end_time": "2025-05-29T18:08:48.730718Z",
     "start_time": "2025-05-29T18:08:48.722107Z"
    }
   },
   "cell_type": "code",
   "source": [
    "texto = \"Hoje é um ótimo dia para aprender NLP com Transformers!\"\n",
    "tokens = tokenizer(texto, return_tensors=\"pt\")\n",
    "\n",
    "print(\"Tokens:\")\n",
    "print(tokens)\n"
   ],
   "id": "a089bc500c434e29",
   "outputs": [
    {
     "name": "stdout",
     "output_type": "stream",
     "text": [
      "Tokens:\n",
      "{'input_ids': tensor([[  101,  6029,   253,   222, 20576,   644,   221, 10698,   248, 18353,\n",
      "           170,  4339,  3590, 20477,   106,   102]]), 'token_type_ids': tensor([[0, 0, 0, 0, 0, 0, 0, 0, 0, 0, 0, 0, 0, 0, 0, 0]]), 'attention_mask': tensor([[1, 1, 1, 1, 1, 1, 1, 1, 1, 1, 1, 1, 1, 1, 1, 1]])}\n"
     ]
    }
   ],
   "execution_count": 4
  },
  {
   "metadata": {},
   "cell_type": "markdown",
   "source": "# 4. 🧠 Testar o model com saída de embeddings",
   "id": "2902dc4d7216d178"
  },
  {
   "metadata": {
    "ExecuteTime": {
     "end_time": "2025-05-29T18:08:52.188776Z",
     "start_time": "2025-05-29T18:08:52.133564Z"
    }
   },
   "cell_type": "code",
   "source": [
    "with torch.no_grad():\n",
    "    outputs = model(**tokens)\n",
    "\n",
    "print(\"Saída da rede BERT:\")\n",
    "print(\"Shape da última camada:\", outputs.last_hidden_state.shape)\n"
   ],
   "id": "bec34bcb9e144949",
   "outputs": [
    {
     "name": "stdout",
     "output_type": "stream",
     "text": [
      "Saída da rede BERT:\n",
      "Shape da última camada: torch.Size([1, 16, 768])\n"
     ]
    }
   ],
   "execution_count": 5
  },
  {
   "metadata": {},
   "cell_type": "markdown",
   "source": "# 5. 📚 Testar o carregamento de um dataset com datasets",
   "id": "387f7c528cae802e"
  },
  {
   "metadata": {
    "ExecuteTime": {
     "end_time": "2025-05-29T18:09:39.967481Z",
     "start_time": "2025-05-29T18:09:20.377491Z"
    }
   },
   "cell_type": "code",
   "source": [
    "from datasets import load_dataset\n",
    "\n",
    "dataset = load_dataset(\"allocine\", split=\"train[:1%]\")  # Exemplo em francês, apenas para testar\n",
    "\n",
    "print(\"Dataset carregado com sucesso!\")\n",
    "print(dataset[0])\n"
   ],
   "id": "3e64b6d105a69196",
   "outputs": [
    {
     "name": "stderr",
     "output_type": "stream",
     "text": [
      "Generating train split: 100%|██████████| 160000/160000 [00:00<00:00, 219219.39 examples/s]\n",
      "Generating validation split: 100%|██████████| 20000/20000 [00:00<00:00, 223261.60 examples/s]\n",
      "Generating test split: 100%|██████████| 20000/20000 [00:00<00:00, 252192.64 examples/s]"
     ]
    },
    {
     "name": "stdout",
     "output_type": "stream",
     "text": [
      "Dataset carregado com sucesso!\n",
      "{'review': 'Si vous cherchez du cinéma abrutissant à tous les étages,n\\'ayant aucune peur du cliché en castagnettes et moralement douteux,\"From Paris with love\" est fait pour vous.Toutes les productions Besson,via sa filière EuropaCorp ont de quoi faire naître la moquerie.Paris y est encore une fois montrée comme une capitale exotique,mais attention si l\\'on se dirige vers la banlieue,on y trouve tout plein d\\'intégristes musulmans prêts à faire sauter le caisson d\\'une ambassadrice américaine.Nauséeux.Alors on se dit qu\\'on va au moins pouvoir apprécier la déconnade d\\'un classique buddy-movie avec le jeune agent aux dents longues obligé de faire équipe avec un vieux lou complètement timbré.Mais d\\'un côté,on a un Jonathan Rhys-meyers fayot au possible,et de l\\'autre un John Travolta en total délire narcissico-badass,crâne rasé et bouc proéminent à l\\'appui.Sinon,il n\\'y a aucun scénario.Seulement,des poursuites débiles sur l\\'autoroute,Travolta qui étale 10 mecs à l\\'arme blanche en 8 mouvements(!!)ou laisse son associé se faire démolir la tronche pendant qu\\'il scrute à la jumelle.Ca pourrait être un plaisir coupable,tellement c\\'est \"hénaurme\",c\\'est juste de la daube dans la droite lignée d\\'un \"Transporteur\",\"Taken\"ou \"Banlieue 13\".', 'label': 0}\n"
     ]
    },
    {
     "name": "stderr",
     "output_type": "stream",
     "text": [
      "\n"
     ]
    }
   ],
   "execution_count": 6
  }
 ],
 "metadata": {
  "kernelspec": {
   "display_name": "Python 3",
   "language": "python",
   "name": "python3"
  },
  "language_info": {
   "codemirror_mode": {
    "name": "ipython",
    "version": 2
   },
   "file_extension": ".py",
   "mimetype": "text/x-python",
   "name": "python",
   "nbconvert_exporter": "python",
   "pygments_lexer": "ipython2",
   "version": "2.7.6"
  }
 },
 "nbformat": 4,
 "nbformat_minor": 5
}
