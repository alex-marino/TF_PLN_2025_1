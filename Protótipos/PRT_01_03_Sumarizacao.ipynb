{
 "cells": [
  {
   "metadata": {},
   "cell_type": "markdown",
   "source": [
    "# 🧠 Sumarização de Texto com LLMs — Execução Mínima\n",
    "\n",
    "Este roteiro mostra como aplicar um modelo LLM pré-treinado para gerar resumos de textos em português, usando a biblioteca 🤗 Hugging Face.\n",
    "\n",
    "---"
   ],
   "id": "7adf2b7bcdacdf9a"
  },
  {
   "metadata": {},
   "cell_type": "markdown",
   "source": "# 📥 Carregar modelo T5 adaptado para português",
   "id": "a792a7afe6ea8aea"
  },
  {
   "metadata": {},
   "cell_type": "code",
   "outputs": [],
   "execution_count": null,
   "source": [
    "from transformers import pipeline\n",
    "\n",
    "# Modelo adaptado para sumarização em português\n",
    "modelo = \"unicamp-dl/ptt5-base-portuguese-vocab\"\n",
    "\n",
    "# Pipeline de sumarização\n",
    "sumarizador = pipeline(\"summarization\", model=modelo, tokenizer=modelo)\n"
   ],
   "id": "704199d253d0ac01"
  },
  {
   "metadata": {},
   "cell_type": "markdown",
   "source": "# 📝 Texto de entrada",
   "id": "ba572c1445a8f749"
  },
  {
   "metadata": {},
   "cell_type": "code",
   "outputs": [],
   "execution_count": null,
   "source": [
    "texto = (\n",
    "    \"O presidente da república discursou na abertura da conferência sobre mudanças climáticas \"\n",
    "    \"e afirmou que o Brasil irá cumprir as metas estabelecidas no Acordo de Paris. Ele destacou \"\n",
    "    \"a importância da preservação da Amazônia e o compromisso com fontes renováveis de energia.\"\n",
    ")\n"
   ],
   "id": "3aef770fa4fcb58e"
  },
  {
   "metadata": {},
   "cell_type": "markdown",
   "source": "# 🚀 Gerar resumo",
   "id": "2a153b590c9e2bd8"
  },
  {
   "metadata": {},
   "cell_type": "code",
   "outputs": [],
   "execution_count": null,
   "source": [
    "resumo = sumarizador(\n",
    "    texto,\n",
    "    max_length=80,\n",
    "    min_length=20,\n",
    "    do_sample=False\n",
    ")\n",
    "\n",
    "print(\"Resumo:\", resumo[0]['summary_text'])\n"
   ],
   "id": "f727309e386768f9"
  },
  {
   "metadata": {},
   "cell_type": "markdown",
   "source": [
    "# ✅ Saída esperada\n",
    "\n",
    "\n",
    "Resumo: O presidente reafirmou o compromisso do Brasil com o Acordo de Paris e destacou a preservação da Amazônia.\n",
    "\n",
    "# 📌 Observações\n",
    "Esse exemplo utiliza inferência direta com modelo pré-treinado (sem fine-tuning).\n",
    "\n",
    "O modelo ptt5-base foi treinado especificamente para tarefas em português.\n",
    "\n",
    "Para textos mais longos, ajuste os parâmetros max_length, min_length e ative truncation=True se necessário.\n",
    "\n"
   ],
   "id": "a9b0b3eedadc5e07"
  },
  {
   "metadata": {},
   "cell_type": "markdown",
   "source": [
    "# 🧠 Fine-Tuning de Sumarização com T5 em Português 🇧🇷\n",
    "\n",
    "Este roteiro mostra como realizar o fine-tuning de um modelo T5 adaptado para a língua portuguesa, utilizando a biblioteca 🤗 Hugging Face Transformers e o dataset XLSum (versão em português).\n"
   ],
   "id": "6a356f50c6d50031"
  },
  {
   "metadata": {},
   "cell_type": "markdown",
   "source": "# 📚 Carregar dataset de exemplo",
   "id": "5b0c4fe4b37625fe"
  },
  {
   "metadata": {},
   "cell_type": "code",
   "outputs": [],
   "execution_count": null,
   "source": [
    "from datasets import load_dataset\n",
    "\n",
    "# Dataset multilíngue com textos e resumos jornalísticos\n",
    "dataset = load_dataset(\"csebuetnlp/xlsum\", \"portuguese\")\n",
    "dataset = dataset.train_test_split(test_size=0.2)\n",
    "dataset[\"validation\"] = dataset[\"test\"]\n"
   ],
   "id": "99e61ab7b24dd056"
  },
  {
   "metadata": {},
   "cell_type": "markdown",
   "source": "# 🧹 Pré-processamento e tokenização",
   "id": "b2149d61cef96cf8"
  },
  {
   "metadata": {},
   "cell_type": "code",
   "outputs": [],
   "execution_count": null,
   "source": [
    "from transformers import AutoTokenizer\n",
    "\n",
    "checkpoint = \"unicamp-dl/ptt5-base-portuguese-vocab\"\n",
    "tokenizer = AutoTokenizer.from_pretrained(checkpoint)\n",
    "\n",
    "max_input_length = 512\n",
    "max_target_length = 128\n",
    "\n",
    "def preprocess_function(examples):\n",
    "    inputs = [\"sumarize: \" + doc for doc in examples[\"text\"]]\n",
    "    model_inputs = tokenizer(inputs, max_length=max_input_length, truncation=True)\n",
    "\n",
    "    with tokenizer.as_target_tokenizer():\n",
    "        labels = tokenizer(examples[\"summary\"], max_length=max_target_length, truncation=True)\n",
    "\n",
    "    model_inputs[\"labels\"] = labels[\"input_ids\"]\n",
    "    return model_inputs\n",
    "\n",
    "tokenized_datasets = dataset.map(preprocess_function, batched=True)\n"
   ],
   "id": "f254a01f35fda828"
  },
  {
   "metadata": {},
   "cell_type": "markdown",
   "source": "# 🧠 Carregar modelo T5 para sumarização",
   "id": "5ecf74e9f1c25e7"
  },
  {
   "metadata": {},
   "cell_type": "code",
   "outputs": [],
   "execution_count": null,
   "source": [
    "from transformers import AutoModelForSeq2SeqLM\n",
    "\n",
    "model = AutoModelForSeq2SeqLM.from_pretrained(checkpoint)\n"
   ],
   "id": "d5dce247bcfc9efd"
  },
  {
   "metadata": {},
   "cell_type": "markdown",
   "source": "# ⚙️ Configuração do treinamento",
   "id": "ad478a979a65d47c"
  },
  {
   "metadata": {},
   "cell_type": "code",
   "outputs": [],
   "execution_count": null,
   "source": [
    "from transformers import TrainingArguments\n",
    "\n",
    "args = TrainingArguments(\n",
    "    output_dir=\"./results\",\n",
    "    evaluation_strategy=\"epoch\",\n",
    "    learning_rate=2e-4,\n",
    "    per_device_train_batch_size=8,\n",
    "    per_device_eval_batch_size=8,\n",
    "    weight_decay=0.01,\n",
    "    save_total_limit=2,\n",
    "    num_train_epochs=3,\n",
    "    predict_with_generate=True,\n",
    "    fp16=False  # Ativar se estiver usando GPU com suporte\n",
    ")\n"
   ],
   "id": "2c18f5a725c9ed3d"
  },
  {
   "metadata": {},
   "cell_type": "markdown",
   "source": "# 📊 Avaliação com ROUGE",
   "id": "8b7a394c9d025c0b"
  },
  {
   "metadata": {},
   "cell_type": "code",
   "outputs": [],
   "execution_count": null,
   "source": [
    "import evaluate\n",
    "\n",
    "rouge = evaluate.load(\"rouge\")\n",
    "\n",
    "def compute_metrics(eval_pred):\n",
    "    predictions, labels = eval_pred\n",
    "    decoded_preds = tokenizer.batch_decode(predictions, skip_special_tokens=True)\n",
    "    decoded_labels = tokenizer.batch_decode(labels, skip_special_tokens=True)\n",
    "\n",
    "    return rouge.compute(predictions=decoded_preds, references=decoded_labels, use_stemmer=True)\n"
   ],
   "id": "e1f155d8fc1c729b"
  },
  {
   "metadata": {},
   "cell_type": "markdown",
   "source": "# 🏋️ Treinar o modelo",
   "id": "2636ce6808495d9c"
  },
  {
   "metadata": {},
   "cell_type": "code",
   "outputs": [],
   "execution_count": null,
   "source": [
    "from transformers import Trainer, DataCollatorForSeq2Seq\n",
    "\n",
    "data_collator = DataCollatorForSeq2Seq(tokenizer=tokenizer, model=model)\n",
    "\n",
    "trainer = Trainer(\n",
    "    model=model,\n",
    "    args=args,\n",
    "    train_dataset=tokenized_datasets[\"train\"],\n",
    "    eval_dataset=tokenized_datasets[\"validation\"],\n",
    "    tokenizer=tokenizer,\n",
    "    data_collator=data_collator,\n",
    "    compute_metrics=compute_metrics\n",
    ")\n",
    "\n",
    "trainer.train()\n"
   ],
   "id": "ee85d2fe805008d6"
  },
  {
   "metadata": {},
   "cell_type": "markdown",
   "source": "# ✅ Avaliação final no conjunto de validação",
   "id": "59a56ef97bf25b11"
  },
  {
   "metadata": {},
   "cell_type": "code",
   "outputs": [],
   "execution_count": null,
   "source": "trainer.evaluate()\n",
   "id": "102942bb20b4eccd"
  },
  {
   "metadata": {},
   "cell_type": "markdown",
   "source": [
    "# 📌 Observações\n",
    "O modelo unicamp-dl/ptt5-base-portuguese-vocab é otimizado para tarefas como sumarização, tradução e geração de texto em português.\n",
    "\n",
    "O dataset XLSum contém pares (texto, resumo) para dezenas de idiomas, incluindo o português.\n",
    "\n",
    "O parâmetro predict_with_generate=True permite gerar sequências durante a avaliação, o que é essencial para calcular ROUGE.\n",
    "\n"
   ],
   "id": "84f02690d5af28e3"
  }
 ],
 "metadata": {},
 "nbformat": 4,
 "nbformat_minor": 5
}
